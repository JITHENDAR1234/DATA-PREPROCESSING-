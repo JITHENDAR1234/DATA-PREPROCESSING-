{
 "cells": [
  {
   "cell_type": "code",
   "execution_count": 3,
   "id": "c1c9dcc0-21cc-4870-ae23-4e20bc13b57e",
   "metadata": {},
   "outputs": [],
   "source": [
    "import numpy as np\n",
    "import pandas as pd\n",
    "import matplotlib.pyplot as plt"
   ]
  },
  {
   "cell_type": "code",
   "execution_count": 4,
   "id": "5ba72fe6-887b-4220-80fc-d927ef77129e",
   "metadata": {},
   "outputs": [],
   "source": [
    "df=pd.read_csv(\"MARK.csv\")"
   ]
  },
  {
   "cell_type": "code",
   "execution_count": 15,
   "id": "82572c5c-7226-49cc-9039-49256558611f",
   "metadata": {},
   "outputs": [],
   "source": [
    "# HEAR WE ARE READING THE CSV FILE"
   ]
  },
  {
   "cell_type": "code",
   "execution_count": 5,
   "id": "100ee33a-58d8-4dfb-a55b-77aae51760f6",
   "metadata": {},
   "outputs": [
    {
     "data": {
      "text/html": [
       "<div>\n",
       "<style scoped>\n",
       "    .dataframe tbody tr th:only-of-type {\n",
       "        vertical-align: middle;\n",
       "    }\n",
       "\n",
       "    .dataframe tbody tr th {\n",
       "        vertical-align: top;\n",
       "    }\n",
       "\n",
       "    .dataframe thead th {\n",
       "        text-align: right;\n",
       "    }\n",
       "</style>\n",
       "<table border=\"1\" class=\"dataframe\">\n",
       "  <thead>\n",
       "    <tr style=\"text-align: right;\">\n",
       "      <th></th>\n",
       "      <th>MATH</th>\n",
       "      <th>CHE</th>\n",
       "      <th>PHY</th>\n",
       "    </tr>\n",
       "  </thead>\n",
       "  <tbody>\n",
       "    <tr>\n",
       "      <th>0</th>\n",
       "      <td>22</td>\n",
       "      <td>88</td>\n",
       "      <td>20</td>\n",
       "    </tr>\n",
       "    <tr>\n",
       "      <th>1</th>\n",
       "      <td>33</td>\n",
       "      <td>77</td>\n",
       "      <td>30</td>\n",
       "    </tr>\n",
       "    <tr>\n",
       "      <th>2</th>\n",
       "      <td>55</td>\n",
       "      <td>52</td>\n",
       "      <td>50</td>\n",
       "    </tr>\n",
       "    <tr>\n",
       "      <th>3</th>\n",
       "      <td>66</td>\n",
       "      <td>36</td>\n",
       "      <td>55</td>\n",
       "    </tr>\n",
       "    <tr>\n",
       "      <th>4</th>\n",
       "      <td>55</td>\n",
       "      <td>45</td>\n",
       "      <td>40</td>\n",
       "    </tr>\n",
       "    <tr>\n",
       "      <th>5</th>\n",
       "      <td>44</td>\n",
       "      <td>12</td>\n",
       "      <td>60</td>\n",
       "    </tr>\n",
       "    <tr>\n",
       "      <th>6</th>\n",
       "      <td>22</td>\n",
       "      <td>11</td>\n",
       "      <td>70</td>\n",
       "    </tr>\n",
       "  </tbody>\n",
       "</table>\n",
       "</div>"
      ],
      "text/plain": [
       "   MATH  CHE  PHY\n",
       "0    22   88   20\n",
       "1    33   77   30\n",
       "2    55   52   50\n",
       "3    66   36   55\n",
       "4    55   45   40\n",
       "5    44   12   60\n",
       "6    22   11   70"
      ]
     },
     "execution_count": 5,
     "metadata": {},
     "output_type": "execute_result"
    }
   ],
   "source": [
    "df"
   ]
  },
  {
   "cell_type": "code",
   "execution_count": 16,
   "id": "6a6d3576-6db4-4ba7-bf2b-0f273ace373b",
   "metadata": {},
   "outputs": [],
   "source": [
    "# HEAR WE ARE PRINTING THE CSV FILE"
   ]
  },
  {
   "cell_type": "code",
   "execution_count": 6,
   "id": "f2bc5658-dbbc-46e7-9c84-22ee76b2fdb1",
   "metadata": {},
   "outputs": [
    {
     "data": {
      "text/plain": [
       "<AxesSubplot:>"
      ]
     },
     "execution_count": 6,
     "metadata": {},
     "output_type": "execute_result"
    },
    {
     "data": {
      "image/png": "[encoded data removed]",
      "text/plain": [
       "<Figure size 432x288 with 1 Axes>"
      ]
     },
     "metadata": {
      "needs_background": "light"
     },
     "output_type": "display_data"
    }
   ],
   "source": [
    "df.plot(kind=\"bar\")"
   ]
  },
  {
   "cell_type": "code",
   "execution_count": 17,
   "id": "91d994bb-58b5-4afc-b40b-bd384bfe425b",
   "metadata": {},
   "outputs": [],
   "source": [
    "# df.plot(kind=\"bar\") this statement is used to plot the graph"
   ]
  },
  {
   "cell_type": "code",
   "execution_count": 7,
   "id": "670df878-7a28-492c-9c73-fd84b6956952",
   "metadata": {},
   "outputs": [],
   "source": [
    "def absolute_maximum_scale(series):\n",
    "    return series / series.abs().max()\n",
    "for col in df.columns:\n",
    "    df[col]=absolute_maximum_scale(df[col])"
   ]
  },
  {
   "cell_type": "code",
   "execution_count": 21,
   "id": "87e67c2c-e18f-418a-99ee-f9b16a7e9e2c",
   "metadata": {},
   "outputs": [],
   "source": [
    "# hear we are defining the formula (series/seeries,abs().max()) example 12/66=0.333333"
   ]
  },
  {
   "cell_type": "code",
   "execution_count": 8,
   "id": "792b001a-b916-4f57-8fcb-5ee9da1921f4",
   "metadata": {},
   "outputs": [
    {
     "data": {
      "text/html": [
       "<div>\n",
       "<style scoped>\n",
       "    .dataframe tbody tr th:only-of-type {\n",
       "        vertical-align: middle;\n",
       "    }\n",
       "\n",
       "    .dataframe tbody tr th {\n",
       "        vertical-align: top;\n",
       "    }\n",
       "\n",
       "    .dataframe thead th {\n",
       "        text-align: right;\n",
       "    }\n",
       "</style>\n",
       "<table border=\"1\" class=\"dataframe\">\n",
       "  <thead>\n",
       "    <tr style=\"text-align: right;\">\n",
       "      <th></th>\n",
       "      <th>MATH</th>\n",
       "      <th>CHE</th>\n",
       "      <th>PHY</th>\n",
       "    </tr>\n",
       "  </thead>\n",
       "  <tbody>\n",
       "    <tr>\n",
       "      <th>0</th>\n",
       "      <td>0.333333</td>\n",
       "      <td>1.000000</td>\n",
       "      <td>0.285714</td>\n",
       "    </tr>\n",
       "    <tr>\n",
       "      <th>1</th>\n",
       "      <td>0.500000</td>\n",
       "      <td>0.875000</td>\n",
       "      <td>0.428571</td>\n",
       "    </tr>\n",
       "    <tr>\n",
       "      <th>2</th>\n",
       "      <td>0.833333</td>\n",
       "      <td>0.590909</td>\n",
       "      <td>0.714286</td>\n",
       "    </tr>\n",
       "    <tr>\n",
       "      <th>3</th>\n",
       "      <td>1.000000</td>\n",
       "      <td>0.409091</td>\n",
       "      <td>0.785714</td>\n",
       "    </tr>\n",
       "    <tr>\n",
       "      <th>4</th>\n",
       "      <td>0.833333</td>\n",
       "      <td>0.511364</td>\n",
       "      <td>0.571429</td>\n",
       "    </tr>\n",
       "    <tr>\n",
       "      <th>5</th>\n",
       "      <td>0.666667</td>\n",
       "      <td>0.136364</td>\n",
       "      <td>0.857143</td>\n",
       "    </tr>\n",
       "    <tr>\n",
       "      <th>6</th>\n",
       "      <td>0.333333</td>\n",
       "      <td>0.125000</td>\n",
       "      <td>1.000000</td>\n",
       "    </tr>\n",
       "  </tbody>\n",
       "</table>\n",
       "</div>"
      ],
      "text/plain": [
       "       MATH       CHE       PHY\n",
       "0  0.333333  1.000000  0.285714\n",
       "1  0.500000  0.875000  0.428571\n",
       "2  0.833333  0.590909  0.714286\n",
       "3  1.000000  0.409091  0.785714\n",
       "4  0.833333  0.511364  0.571429\n",
       "5  0.666667  0.136364  0.857143\n",
       "6  0.333333  0.125000  1.000000"
      ]
     },
     "execution_count": 8,
     "metadata": {},
     "output_type": "execute_result"
    }
   ],
   "source": [
    "df"
   ]
  },
  {
   "cell_type": "code",
   "execution_count": 9,
   "id": "404088a1-5563-4340-8a76-015d5b5381fc",
   "metadata": {},
   "outputs": [
    {
     "data": {
      "text/plain": [
       "<AxesSubplot:>"
      ]
     },
     "execution_count": 9,
     "metadata": {},
     "output_type": "execute_result"
    },
    {
     "data": {
      "image/png": "[encoded data removed]",
      "text/plain": [
       "<Figure size 432x288 with 1 Axes>"
      ]
     },
     "metadata": {
      "needs_background": "light"
     },
     "output_type": "display_data"
    }
   ],
   "source": [
    "df.plot(kind='bar')"
   ]
  },
  {
   "cell_type": "code",
   "execution_count": 18,
   "id": "1e02f23b-1876-406a-bc4d-c34240ec12af",
   "metadata": {},
   "outputs": [],
   "source": [
    "# df.plot(kind=\"bar\") this statement is used to plot the graph"
   ]
  },
  {
   "cell_type": "code",
   "execution_count": 10,
   "id": "5dfa3287-bd9b-41a5-8a9d-ecb393ece866",
   "metadata": {},
   "outputs": [
    {
     "name": "stdout",
     "output_type": "stream",
     "text": [
      "   MATH       CHE  PHY\n",
      "0  0.00  1.000000  0.0\n",
      "1  0.25  0.857143  0.2\n",
      "2  0.75  0.532468  0.6\n",
      "3  1.00  0.324675  0.7\n",
      "4  0.75  0.441558  0.4\n"
     ]
    }
   ],
   "source": [
    "def min_max_scaling(series):\n",
    "    return (series - series.min()) / (series.max() - series.min())\n",
    "\n",
    "for col in df.columns:\n",
    "    df[col] = min_max_scaling(df[col])\n",
    "\n",
    "    \n",
    "print(df.head())"
   ]
  },
  {
   "cell_type": "code",
   "execution_count": 22,
   "id": "2c954f65-d98d-431f-b768-547f2a99c287",
   "metadata": {},
   "outputs": [],
   "source": [
    "# here we are defining the formula (series - series.min()) / (series.max() - series.min()) example=(12-12)/(66-12)=0"
   ]
  },
  {
   "cell_type": "code",
   "execution_count": 11,
   "id": "4d99c3c0-8cc4-4619-9b39-366abcaa69da",
   "metadata": {},
   "outputs": [
    {
     "data": {
      "text/plain": [
       "<AxesSubplot:>"
      ]
     },
     "execution_count": 11,
     "metadata": {},
     "output_type": "execute_result"
    },
    {
     "data": {
      "image/png": "[encoded data removed]",
      "text/plain": [
       "<Figure size 432x288 with 1 Axes>"
      ]
     },
     "metadata": {
      "needs_background": "light"
     },
     "output_type": "display_data"
    }
   ],
   "source": [
    "df.plot(kind = 'bar')"
   ]
  },
  {
   "cell_type": "code",
   "execution_count": 19,
   "id": "607333d5-6423-40c2-bfb9-075729555821",
   "metadata": {},
   "outputs": [],
   "source": [
    "# df.plot(kind=\"bar\") this statement is used to plot the graph"
   ]
  },
  {
   "cell_type": "code",
   "execution_count": 12,
   "id": "3205940e-d076-4045-9d16-e1f1c9b01f22",
   "metadata": {},
   "outputs": [],
   "source": [
    "def z_score_standardization(series):\n",
    "    return (series - series.mean()) / series.std()\n",
    "\n",
    "for col in df.columns:\n",
    "    df[col] = z_score_standardization(df[col])\n",
    "\n"
   ]
  },
  {
   "cell_type": "code",
   "execution_count": 23,
   "id": "ba031b4b-7d32-48f9-97d3-93487e380aef",
   "metadata": {},
   "outputs": [],
   "source": [
    "# here we are defining the formula (series - series.mean()) / series.std() "
   ]
  },
  {
   "cell_type": "code",
   "execution_count": 13,
   "id": "1937aae4-9542-43d3-8e5c-227324bcd022",
   "metadata": {},
   "outputs": [
    {
     "data": {
      "text/html": [
       "<div>\n",
       "<style scoped>\n",
       "    .dataframe tbody tr th:only-of-type {\n",
       "        vertical-align: middle;\n",
       "    }\n",
       "\n",
       "    .dataframe tbody tr th {\n",
       "        vertical-align: top;\n",
       "    }\n",
       "\n",
       "    .dataframe thead th {\n",
       "        text-align: right;\n",
       "    }\n",
       "</style>\n",
       "<table border=\"1\" class=\"dataframe\">\n",
       "  <thead>\n",
       "    <tr style=\"text-align: right;\">\n",
       "      <th></th>\n",
       "      <th>MATH</th>\n",
       "      <th>CHE</th>\n",
       "      <th>PHY</th>\n",
       "    </tr>\n",
       "  </thead>\n",
       "  <tbody>\n",
       "    <tr>\n",
       "      <th>0</th>\n",
       "      <td>-1.180194</td>\n",
       "      <td>1.425659</td>\n",
       "      <td>-1.510938</td>\n",
       "    </tr>\n",
       "    <tr>\n",
       "      <th>1</th>\n",
       "      <td>-0.544705</td>\n",
       "      <td>1.053538</td>\n",
       "      <td>-0.939232</td>\n",
       "    </tr>\n",
       "    <tr>\n",
       "      <th>2</th>\n",
       "      <td>0.726273</td>\n",
       "      <td>0.207808</td>\n",
       "      <td>0.204181</td>\n",
       "    </tr>\n",
       "    <tr>\n",
       "      <th>3</th>\n",
       "      <td>1.361762</td>\n",
       "      <td>-0.333459</td>\n",
       "      <td>0.490034</td>\n",
       "    </tr>\n",
       "    <tr>\n",
       "      <th>4</th>\n",
       "      <td>0.726273</td>\n",
       "      <td>-0.028996</td>\n",
       "      <td>-0.367526</td>\n",
       "    </tr>\n",
       "    <tr>\n",
       "      <th>5</th>\n",
       "      <td>0.090784</td>\n",
       "      <td>-1.145360</td>\n",
       "      <td>0.775887</td>\n",
       "    </tr>\n",
       "    <tr>\n",
       "      <th>6</th>\n",
       "      <td>-1.180194</td>\n",
       "      <td>-1.179189</td>\n",
       "      <td>1.347594</td>\n",
       "    </tr>\n",
       "  </tbody>\n",
       "</table>\n",
       "</div>"
      ],
      "text/plain": [
       "       MATH       CHE       PHY\n",
       "0 -1.180194  1.425659 -1.510938\n",
       "1 -0.544705  1.053538 -0.939232\n",
       "2  0.726273  0.207808  0.204181\n",
       "3  1.361762 -0.333459  0.490034\n",
       "4  0.726273 -0.028996 -0.367526\n",
       "5  0.090784 -1.145360  0.775887\n",
       "6 -1.180194 -1.179189  1.347594"
      ]
     },
     "execution_count": 13,
     "metadata": {},
     "output_type": "execute_result"
    }
   ],
   "source": [
    "df"
   ]
  },
  {
   "cell_type": "code",
   "execution_count": 14,
   "id": "aa0a2d50-346a-4ce6-bb76-fdc24a77c310",
   "metadata": {},
   "outputs": [
    {
     "data": {
      "text/plain": [
       "<AxesSubplot:>"
      ]
     },
     "execution_count": 14,
     "metadata": {},
     "output_type": "execute_result"
    },
    {
     "data": {
      "image/png": "[encoded data removed]",
      "text/plain": [
       "<Figure size 432x288 with 1 Axes>"
      ]
     },
     "metadata": {
      "needs_background": "light"
     },
     "output_type": "display_data"
    }
   ],
   "source": [
    "df.plot(kind = 'bar')"
   ]
  },
  {
   "cell_type": "code",
   "execution_count": 20,
   "id": "6e576831-545c-4077-ad32-9ddc3663144a",
   "metadata": {},
   "outputs": [],
   "source": [
    "# df.plot(kind=\"bar\") this statement is used to plot the graph"
   ]
  }
 ],
 "metadata": {
  "kernelspec": {
   "display_name": "Python 3 (ipykernel)",
   "language": "python",
   "name": "python3"
  },
  "language_info": {
   "codemirror_mode": {
    "name": "ipython",
    "version": 3
   },
   "file_extension": ".py",
   "mimetype": "text/x-python",
   "name": "python",
   "nbconvert_exporter": "python",
   "pygments_lexer": "ipython3",
   "version": "3.9.12"
  }
 },
 "nbformat": 4,
 "nbformat_minor": 5
}
